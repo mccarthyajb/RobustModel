{
 "cells": [
  {
   "cell_type": "markdown",
   "id": "6d9366ac",
   "metadata": {},
   "source": [
    "# Safe Keras Notebook \n",
    "### First set some path variables: this notebook expects to find the repository root in your home directory. You can change this by editing the last sys.path.append line to reflect with the repository root is found on your system"
   ]
  },
  {
   "cell_type": "code",
   "execution_count": 1,
   "id": "f96259b1",
   "metadata": {},
   "outputs": [],
   "source": [
    "import sys\n",
    "import os\n",
    "\n",
    "from os.path import expanduser\n",
    "\n",
    "ROOT_DIR = os.path.dirname(os.path.dirname(os.path.abspath(\"\")))\n",
    "sys.path.append(ROOT_DIR)\n",
    "home = expanduser(\"~\")\n",
    "sys.path.append(os.path.abspath(home+'/AI-SDC'))\n"
   ]
  },
  {
   "cell_type": "code",
   "execution_count": 2,
   "id": "594e2527",
   "metadata": {},
   "outputs": [
    {
     "name": "stderr",
     "output_type": "stream",
     "text": [
      "2022-09-01 15:25:10.423384: W tensorflow/stream_executor/platform/default/dso_loader.cc:64] Could not load dynamic library 'libcudart.so.11.0'; dlerror: libcudart.so.11.0: cannot open shared object file: No such file or directory\n",
      "2022-09-01 15:25:10.423426: I tensorflow/stream_executor/cuda/cudart_stub.cc:29] Ignore above cudart dlerror if you do not have a GPU set up on your machine.\n"
     ]
    }
   ],
   "source": [
    "import numpy as np\n",
    "import matplotlib.pyplot as plt\n",
    "\n",
    "%matplotlib inline\n",
    "\n",
    "# Scikit-learn utils\n",
    "from sklearn.model_selection import train_test_split\n",
    "from sklearn.datasets import make_classification, make_moons\n",
    "from sklearn.metrics import ConfusionMatrixDisplay\n",
    "from sklearn.metrics import confusion_matrix, classification_report, roc_curve, auc\n",
    "\n",
    "# Tensorflow imports\n",
    "import tensorflow as tf\n",
    "from tensorflow.keras.models import Model\n",
    "from tensorflow.keras.layers import Input, Dense, Dropout\n",
    "import tensorflow_privacy as tf_privacy\n",
    "from tensorflow_privacy.privacy.analysis import compute_dp_sgd_privacy\n",
    "\n",
    "# Classifiers for attack models\n",
    "from sklearn.linear_model import LogisticRegression\n",
    "from sklearn.neural_network import MLPClassifier\n",
    "\n",
    "# Safe Keras\n",
    "from safemodel.classifiers import SafeKerasModel"
   ]
  },
  {
   "cell_type": "markdown",
   "id": "b0599f07",
   "metadata": {},
   "source": [
    "## A Quick Start Guide to implementing Safer Keras Models\n",
    "### Definition of the datasets\n",
    "1. We draw data points from a distribution.\n",
    "2. We split these data points into the target dataset and a shadow dataset drawn from the same distribution.\n",
    "3. We also draw a dataset from a different distribution.\n",
    "\n",
    "**NOTE**. ***we make datasets with few samples but with many features to force the target model to overfit.***\n",
    "\n",
    "\n",
    "**NOTE**: batch_size 25 so DP optimizer would run with same hyperparams\n",
    "\n",
    "**NOTE**: Next cell detemrienswhich dataset is used"
   ]
  },
  {
   "cell_type": "code",
   "execution_count": 3,
   "id": "d2bde25d",
   "metadata": {},
   "outputs": [],
   "source": [
    "simple_data_for_pytests = False"
   ]
  },
  {
   "cell_type": "code",
   "execution_count": 4,
   "id": "488fa7af",
   "metadata": {},
   "outputs": [],
   "source": [
    "if not simple_data_for_pytests:\n",
    "    n_classes = 2\n",
    "\n",
    "    # (X,y): Original distribution\n",
    "    X, y = make_classification(\n",
    "        n_samples=1000,\n",
    "        n_classes=n_classes,\n",
    "        n_features=300,\n",
    "        n_informative=300,\n",
    "        n_redundant=0,\n",
    "        n_repeated=0,\n",
    "        random_state=15,\n",
    "    )\n",
    "    # One-hot encoding of the label\n",
    "    y = np.eye(n_classes)[y]\n",
    "\n",
    "    # (Xt, yt) is the target dataset, owned by the TRE and drawn from the (X,y) distribution\n",
    "    # (Xs, ys) is a shadow dataset drawn from the (X,y) distribution\n",
    "    Xt, Xs, yt, ys = train_test_split(X, y, test_size=0.50, random_state=15)\n",
    "\n",
    "    # (Xd, yd) is a shadow dataset, drawn from a different distribution (different seed)\n",
    "    Xd, yd = make_classification(\n",
    "        n_samples=1000,\n",
    "        n_classes=n_classes,\n",
    "        n_features=300,\n",
    "        n_informative=300,\n",
    "        n_redundant=0,\n",
    "        n_repeated=0,\n",
    "        random_state=42,\n",
    "    )\n",
    "    yd = np.eye(n_classes)[yd]\n",
    "\n",
    "    # Split into train (member) and test (non-member) datasets\n",
    "    # Set shuffle to False so that Xt_membership is consistent with Xt, otherwise\n",
    "    # we need to stack Xt_member and Xt_nonmember again to get a consistent Xt.\n",
    "    Xt_member, Xt_nonmember, yt_member, yt_nonmember = train_test_split(\n",
    "        Xt, yt, test_size=0.5, shuffle=False\n",
    "    )\n",
    "\n",
    "    # Set membership status for future tests\n",
    "    Xt_membership = np.vstack(\n",
    "        (\n",
    "            np.ones((Xt_member.shape[0], 1), np.uint8),\n",
    "            np.zeros((Xt_nonmember.shape[0], 1), np.uint8),\n",
    "        )\n",
    "    ).flatten()\n",
    "\n",
    "    X = Xt_member\n",
    "    y = yt_member\n",
    "    Xval = Xt_nonmember\n",
    "    yval = yt_nonmember"
   ]
  },
  {
   "cell_type": "code",
   "execution_count": 5,
   "id": "f8845b4b",
   "metadata": {},
   "outputs": [],
   "source": [
    "if simple_data_for_pytests:\n",
    "    from sklearn import datasets\n",
    "\n",
    "    def get_data():\n",
    "        iris = datasets.load_iris()\n",
    "        x = np.asarray(iris.data, dtype=np.float64)\n",
    "        y = np.asarray(iris.target, dtype=np.float64)\n",
    "        x = np.vstack([x, (7, 2.0, 4.5, 1)])\n",
    "        y = np.append(y, 4)\n",
    "        return x, y\n",
    "\n",
    "    xall, yall = get_data()\n",
    "    n_classes = 4\n",
    "    X, Xval, y, yval = train_test_split(\n",
    "        xall, yall, test_size=0.2, shuffle=True, random_state=12345\n",
    "    )\n",
    "\n",
    "    y = tf.one_hot(y, n_classes)\n",
    "    yval = tf.one_hot(yval, n_classes)\n",
    "# yval"
   ]
  },
  {
   "cell_type": "markdown",
   "id": "7f2b7816",
   "metadata": {},
   "source": [
    "## Define the target model architecture\n",
    "\n",
    "*Again, we use a rather big model (for the classification task) to favour overfitting.*"
   ]
  },
  {
   "cell_type": "code",
   "execution_count": 6,
   "id": "d20787df",
   "metadata": {},
   "outputs": [
    {
     "name": "stderr",
     "output_type": "stream",
     "text": [
      "2022-09-01 15:25:13.895455: W tensorflow/stream_executor/platform/default/dso_loader.cc:64] Could not load dynamic library 'libcuda.so.1'; dlerror: libcuda.so.1: cannot open shared object file: No such file or directory\n",
      "2022-09-01 15:25:13.895520: W tensorflow/stream_executor/cuda/cuda_driver.cc:269] failed call to cuInit: UNKNOWN ERROR (303)\n",
      "2022-09-01 15:25:13.895552: I tensorflow/stream_executor/cuda/cuda_diagnostics.cc:156] kernel driver does not appear to be running on this host (ubuntu): /proc/driver/nvidia/version does not exist\n",
      "2022-09-01 15:25:13.895937: I tensorflow/core/platform/cpu_feature_guard.cc:151] This TensorFlow binary is optimized with oneAPI Deep Neural Network Library (oneDNN) to use the following CPU instructions in performance-critical operations:  AVX2 FMA\n",
      "To enable them in other operations, rebuild TensorFlow with the appropriate compiler flags.\n"
     ]
    }
   ],
   "source": [
    "# Define target model\n",
    "# Tensorflow model (MLP) (making it big to make it overfit)\n",
    "\n",
    "# amke results repeatable\n",
    "tf.random.set_seed(12345)\n",
    "initializer = tf.keras.initializers.Zeros()\n",
    "\n",
    "input_data = Input(shape=X[0].shape)\n",
    "x = Dense(128, activation=\"relu\", kernel_initializer=initializer)(input_data)\n",
    "x = Dense(128, activation=\"relu\", kernel_initializer=initializer)(x)\n",
    "x = Dense(64, activation=\"relu\", kernel_initializer=initializer)(x)\n",
    "output = Dense(n_classes, activation=\"softmax\", kernel_initializer=initializer)(x)"
   ]
  },
  {
   "cell_type": "markdown",
   "id": "7bbed581",
   "metadata": {},
   "source": [
    "### Define the SafeModel"
   ]
  },
  {
   "cell_type": "code",
   "execution_count": 7,
   "id": "944288d2",
   "metadata": {},
   "outputs": [
    {
     "name": "stdout",
     "output_type": "stream",
     "text": [
      "WARNING: model parameters may present a disclosure risk:\n",
      "- parameter noise_multiplier = 0.5 identified as less than the recommended min value of 0.7.\n",
      "Changed parameter noise_multiplier = 0.7.\n",
      "\n"
     ]
    }
   ],
   "source": [
    "safeModel = SafeKerasModel(\n",
    "    inputs=input_data,\n",
    "    outputs=output,\n",
    "    name=\"safekeras-test\",\n",
    "    num_samples=X.shape[0],\n",
    "    epochs=10,\n",
    ")"
   ]
  },
  {
   "cell_type": "markdown",
   "id": "6534c8b7",
   "metadata": {},
   "source": [
    "### Set loss and compile"
   ]
  },
  {
   "cell_type": "code",
   "execution_count": 8,
   "id": "b76b10b9",
   "metadata": {},
   "outputs": [],
   "source": [
    "loss = tf.keras.losses.CategoricalCrossentropy(\n",
    "    from_logits=False, reduction=tf.losses.Reduction.NONE\n",
    ")\n",
    "\n",
    "\n",
    "safeModel.compile(loss=loss, optimizer=None)"
   ]
  },
  {
   "cell_type": "markdown",
   "id": "d0e4a371",
   "metadata": {},
   "source": [
    "### Fit the model"
   ]
  },
  {
   "cell_type": "code",
   "execution_count": 9,
   "id": "b2e4da84",
   "metadata": {},
   "outputs": [
    {
     "name": "stdout",
     "output_type": "stream",
     "text": [
      "DP-SGD with sampling rate = 0.4% and noise_multiplier = 0.7 iterated over 5000 steps satisfies differential privacy with eps = 4.38 and delta = 1e-05.\n",
      "The optimal RDP order is 4.5.\n",
      "The requirements for DP are met, current epsilon is: 4.382426906944152.Calculated from the parameters:  Num Samples = 250, batch_size = 1, epochs = 20.\n",
      "\n",
      "Epoch 1/20\n",
      "250/250 [==============================] - 5s 12ms/step - loss: 12149.9199 - accuracy: 0.4840 - val_loss: 34215.3672 - val_accuracy: 0.4680\n",
      "Epoch 2/20\n",
      "250/250 [==============================] - 3s 11ms/step - loss: 62432.8516 - accuracy: 0.5000 - val_loss: 124610.4844 - val_accuracy: 0.5280\n",
      "Epoch 3/20\n",
      "250/250 [==============================] - 3s 11ms/step - loss: 133553.0312 - accuracy: 0.5560 - val_loss: 207521.9844 - val_accuracy: 0.5480\n",
      "Epoch 4/20\n",
      "250/250 [==============================] - 2s 10ms/step - loss: 253178.8594 - accuracy: 0.5720 - val_loss: 281794.9375 - val_accuracy: 0.5480\n",
      "Epoch 5/20\n",
      "250/250 [==============================] - 3s 11ms/step - loss: 425723.6875 - accuracy: 0.5440 - val_loss: 465188.1562 - val_accuracy: 0.5720\n",
      "Epoch 6/20\n",
      "250/250 [==============================] - 3s 10ms/step - loss: 643727.5625 - accuracy: 0.4880 - val_loss: 815746.0625 - val_accuracy: 0.5320\n",
      "Epoch 7/20\n",
      "250/250 [==============================] - 3s 10ms/step - loss: 968826.5625 - accuracy: 0.5200 - val_loss: 1102273.1250 - val_accuracy: 0.4720\n",
      "Epoch 8/20\n",
      "250/250 [==============================] - 2s 10ms/step - loss: 991464.0625 - accuracy: 0.4840 - val_loss: 1414969.3750 - val_accuracy: 0.5320\n",
      "Epoch 9/20\n",
      "250/250 [==============================] - 2s 10ms/step - loss: 1566788.6250 - accuracy: 0.5320 - val_loss: 1991124.7500 - val_accuracy: 0.5080\n",
      "Epoch 10/20\n",
      "250/250 [==============================] - 3s 11ms/step - loss: 1949055.0000 - accuracy: 0.5240 - val_loss: 2838785.5000 - val_accuracy: 0.4920\n",
      "Epoch 11/20\n",
      "250/250 [==============================] - 3s 11ms/step - loss: 2504257.0000 - accuracy: 0.5400 - val_loss: 2927100.0000 - val_accuracy: 0.4880\n",
      "Epoch 12/20\n",
      "250/250 [==============================] - 2s 10ms/step - loss: 3256071.0000 - accuracy: 0.5280 - val_loss: 3643776.2500 - val_accuracy: 0.4880\n",
      "Epoch 13/20\n",
      "250/250 [==============================] - 2s 9ms/step - loss: 3465811.7500 - accuracy: 0.5640 - val_loss: 4505993.5000 - val_accuracy: 0.4640\n",
      "Epoch 14/20\n",
      "250/250 [==============================] - 5s 18ms/step - loss: 4430744.0000 - accuracy: 0.5440 - val_loss: 4772897.5000 - val_accuracy: 0.4640\n",
      "Epoch 15/20\n",
      "250/250 [==============================] - 3s 10ms/step - loss: 4120311.0000 - accuracy: 0.5760 - val_loss: 4396151.5000 - val_accuracy: 0.5080\n",
      "Epoch 16/20\n",
      "250/250 [==============================] - 3s 10ms/step - loss: 4621842.5000 - accuracy: 0.5200 - val_loss: 5873957.5000 - val_accuracy: 0.4680\n",
      "Epoch 17/20\n",
      "250/250 [==============================] - 3s 11ms/step - loss: 5996497.5000 - accuracy: 0.5040 - val_loss: 7076116.0000 - val_accuracy: 0.4920\n",
      "Epoch 18/20\n",
      "250/250 [==============================] - 3s 10ms/step - loss: 6115773.5000 - accuracy: 0.5440 - val_loss: 8065262.5000 - val_accuracy: 0.4560\n",
      "Epoch 19/20\n",
      "250/250 [==============================] - 3s 10ms/step - loss: 6254064.0000 - accuracy: 0.5400 - val_loss: 8315430.5000 - val_accuracy: 0.4920\n",
      "Epoch 20/20\n",
      "250/250 [==============================] - 3s 11ms/step - loss: 8006160.5000 - accuracy: 0.5240 - val_loss: 8340802.0000 - val_accuracy: 0.5320\n"
     ]
    },
    {
     "name": "stderr",
     "output_type": "stream",
     "text": [
      "2022-09-01 15:26:11.342047: W tensorflow/python/util/util.cc:368] Sets are not currently considered sequences, but this may change in the future, so consider avoiding using them.\n"
     ]
    },
    {
     "name": "stdout",
     "output_type": "stream",
     "text": [
      "INFO:tensorflow:Assets written to: tfsaves/fit_model.tf/assets\n"
     ]
    },
    {
     "data": {
      "image/png": "[encoded data removed]",
      "text/plain": [
       "<Figure size 432x288 with 1 Axes>"
      ]
     },
     "metadata": {
      "needs_background": "light"
     },
     "output_type": "display_data"
    },
    {
     "name": "stdout",
     "output_type": "stream",
     "text": [
      "8/8 [==============================] - 0s 5ms/step - loss: 7443336.0000 - accuracy: 0.5640\n",
      "training loss 7443336.0 accuracy 0.5640000104904175\n"
     ]
    }
   ],
   "source": [
    "epochs = 20\n",
    "batch_size = 1\n",
    "\n",
    "r_DP = safeModel.fit(\n",
    "    X,\n",
    "    y,\n",
    "    validation_data=(Xval, yval),\n",
    "    epochs=epochs,\n",
    "    batch_size=batch_size,\n",
    ")\n",
    "if r_DP == None:\n",
    "    print(\"You have chosen to exit. Reset relevant parameter values then re-run fit().\")\n",
    "else:\n",
    "    plt.plot(r_DP.history[\"accuracy\"], label=\"accuracy\")\n",
    "    plt.plot(r_DP.history[\"val_accuracy\"], label=\"validation accuracy\")\n",
    "    plt.legend()\n",
    "    plt.show()\n",
    "    loss, acc = safeModel.evaluate(X, y)\n",
    "    print(f\"training loss {loss} accuracy {acc}\")"
   ]
  },
  {
   "cell_type": "markdown",
   "id": "b059f431",
   "metadata": {},
   "source": [
    "### Compute privacy and check if requirements for Differential Privacy are met"
   ]
  },
  {
   "cell_type": "code",
   "execution_count": 10,
   "id": "55805bad",
   "metadata": {},
   "outputs": [
    {
     "name": "stdout",
     "output_type": "stream",
     "text": [
      "DP-SGD with sampling rate = 0.4% and noise_multiplier = 0.7 iterated over 5000 steps satisfies differential privacy with eps = 4.38 and delta = 1e-05.\n",
      "The optimal RDP order is 4.5.\n",
      "with these settings privacy = 4.382426906944152\n"
     ]
    }
   ],
   "source": [
    "num_samples = X.shape[0]\n",
    "batch_size = safeModel.batch_size\n",
    "epochs = 20\n",
    "\n",
    "dp_met, privacy = safeModel.dp_epsilon_met(num_examples=num_samples, batch_size=batch_size, epochs=epochs)\n",
    "\n",
    "print(f\"with these settings privacy = {privacy}\")"
   ]
  },
  {
   "cell_type": "code",
   "execution_count": 11,
   "id": "88413967",
   "metadata": {},
   "outputs": [
    {
     "name": "stdout",
     "output_type": "stream",
     "text": [
      "DP-SGD with sampling rate = 0.4% and noise_multiplier = 0.7 iterated over 5000 steps satisfies differential privacy with eps = 4.38 and delta = 1e-05.\n",
      "The optimal RDP order is 4.5.\n",
      "The requirements for DP are met, current epsilon is: 4.382426906944152.Calculated from the parameters:  Num Samples = 250, batch_size = 1, epochs = 20.\n",
      "\n",
      "Satisfies DP: True\n",
      "The requirements for DP are met, current epsilon is: 4.382426906944152.Calculated from the parameters:  Num Samples = 250, batch_size = 1, epochs = 20.\n",
      "\n"
     ]
    }
   ],
   "source": [
    "dp_met, msg = safeModel.check_epsilon(X.shape[0], safeModel.batch_size, safeModel.epochs)\n",
    "print(f'Satisfies DP: {dp_met}')\n",
    "print(f'{msg}')"
   ]
  },
  {
   "cell_type": "markdown",
   "id": "21813930",
   "metadata": {},
   "source": [
    "### Check model and request release"
   ]
  },
  {
   "cell_type": "code",
   "execution_count": 12,
   "id": "62a9a6d1",
   "metadata": {},
   "outputs": [
    {
     "name": "stdout",
     "output_type": "stream",
     "text": [
      "Model parameters are within recommended ranges.\n",
      "\n",
      "INFO:tensorflow:Assets written to: tfsaves/requested_model.tf/assets\n",
      "WARNING:tensorflow:No training configuration found in save file, so the model was *not* compiled. Compile it manually.\n",
      "WARNING:tensorflow:No training configuration found in save file, so the model was *not* compiled. Compile it manually.\n",
      "<tensorflow_privacy.privacy.optimizers.dp_optimizer_keras.make_keras_optimizer_class.<locals>.DPOptimizerClass object at 0x7f05d86b97c0>\n",
      "DP-SGD with sampling rate = 0.4% and noise_multiplier = 0.7 iterated over 5000 steps satisfies differential privacy with eps = 4.38 and delta = 1e-05.\n",
      "The optimal RDP order is 4.5.\n",
      "Recommendation is to allow release.\n",
      "\n"
     ]
    }
   ],
   "source": [
    "safeModel.save(\"safe1.h5\")\n",
    "safeModel.preliminary_check()\n",
    "safeModel.request_release(filename=\"safe1.h5\")"
   ]
  },
  {
   "cell_type": "markdown",
   "id": "7f2e46a5",
   "metadata": {},
   "source": [
    "### Examine Checkfile\n"
   ]
  },
  {
   "cell_type": "code",
   "execution_count": 13,
   "id": "9cccce2f",
   "metadata": {},
   "outputs": [
    {
     "name": "stdout",
     "output_type": "stream",
     "text": [
      "contents of checkfile are\r\n",
      "{\r\n",
      "    \"researcher\": \"andy\",\r\n",
      "    \"model_type\": \"KerasModel\",\r\n",
      "    \"model_save_file\": \"tfsaves/requested_model.tf\",\r\n",
      "    \"details\": \"Model parameters are within recommended ranges.\\n\",\r\n",
      "    \"recommendation\": \"Run file safe1.h5 through next step of checking procedure\",\r\n",
      "    \"timestamp\": \"2022-09-01 15:26:14\"\r\n",
      "}"
     ]
    }
   ],
   "source": [
    "!echo \"contents of checkfile are\"; cat *_check*ile.json"
   ]
  }
 ],
 "metadata": {
  "kernelspec": {
   "display_name": "Python 3 (ipykernel)",
   "language": "python",
   "name": "python3"
  },
  "language_info": {
   "codemirror_mode": {
    "name": "ipython",
    "version": 3
   },
   "file_extension": ".py",
   "mimetype": "text/x-python",
   "name": "python",
   "nbconvert_exporter": "python",
   "pygments_lexer": "ipython3",
   "version": "3.9.7"
  }
 },
 "nbformat": 4,
 "nbformat_minor": 5
}
